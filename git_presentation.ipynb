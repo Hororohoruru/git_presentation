{
 "cells": [
  {
   "cell_type": "markdown",
   "metadata": {
    "slideshow": {
     "slide_type": "slide"
    }
   },
   "source": [
    "# Git and Github\n",
    "\n",
    "An introduction to version control, easy to share/reproduce code, and more!\n",
    "\n",
    "By: L. Darmet and JJ. Torre\n",
    "\n",
    "<img src=\"./img/banner.png\" alt=\"drawing\" width=\"500\">"
   ]
  },
  {
   "cell_type": "markdown",
   "metadata": {
    "slideshow": {
     "slide_type": "subslide"
    }
   },
   "source": [
    "## What is version control?"
   ]
  },
  {
   "cell_type": "markdown",
   "metadata": {
    "slideshow": {
     "slide_type": "fragment"
    }
   },
   "source": [
    "<center>Are you in this picture?</center>\n",
    "<center>\n",
    "<img src=\"./img/final.png\" alt=\"drawing\" style=\"margin:auto\" width='500' height='500'>\n",
    "</center>"
   ]
  },
  {
   "cell_type": "markdown",
   "metadata": {
    "slideshow": {
     "slide_type": "subslide"
    }
   },
   "source": [
    "Version control allows us to keep track of file changes locally, sync changes among team members, and maintain code and other files organized and available.\n",
    "<center>\n",
    "<img src=\"./img/git_flow.png\" alt=\"drawing\" style=\"margin:auto\" width='300' height='300'>\n",
    "</center>"
   ]
  },
  {
   "cell_type": "markdown",
   "metadata": {
    "slideshow": {
     "slide_type": "slide"
    },
    "tags": []
   },
   "source": [
    "# Differences between Git and GitHub"
   ]
  },
  {
   "cell_type": "markdown",
   "metadata": {
    "slideshow": {
     "slide_type": "subslide"
    }
   },
   "source": [
    "- Git: an open-source distributed version controol tool to manage source code history. Maintaned by the Linux foundation.\n",
    "- GitHub: online service and cloud based plateform built around the Git tool to host Git repository. Private company owned by Microsoft. \n",
    "- GitLab: open-source equivalent of GitHub, can be self-hosted (we have a self-hosted Gitlab in ISAE..!)"
   ]
  },
  {
   "cell_type": "markdown",
   "metadata": {
    "slideshow": {
     "slide_type": "subslide"
    }
   },
   "source": [
    "GitHub and GitLab offer some additionnal features compared to Git alone such as: \n",
    "- features requests and pull request: ask for new functionnality and merge new functionnality to the exisiting code after review by the owner\n",
    "- a wiki for each project\n",
    "- continuous integration tools (run automatic tests to check if additions in the code don't alter the expected outputs)"
   ]
  },
  {
   "cell_type": "markdown",
   "metadata": {
    "slideshow": {
     "slide_type": "subslide"
    }
   },
   "source": [
    "<img src=\"./img/git_logo.png\" alt=\"drawing\" margin='left' width='100' height='100'>\n",
    "<ul>\n",
    "<li>Git is a version control system</li>\n",
    "<li>It follows the evolution of a set of files in your computer, called a 'repository' or 'repo'</li>\n",
    "</ul>"
   ]
  },
  {
   "cell_type": "markdown",
   "metadata": {
    "slideshow": {
     "slide_type": "fragment"
    }
   },
   "source": [
    "<img src=\"./img/github_logo.png\" alt=\"drawing\" style=left width='75' height='75'>\n",
    "<ul>\n",
    "<li>Github is a hosting service for git repos</li>\n",
    "<li>It enables multiple users to keep their local repos synchronized</li>\n",
    "<li>It also enables code sharing and open source collaboration via issues and pull requests</li>\n",
    "<li>Cute cat/octopus mascot</li>\n",
    "</ul>"
   ]
  },
  {
   "cell_type": "markdown",
   "metadata": {
    "slideshow": {
     "slide_type": "fragment"
    }
   },
   "source": [
    "There exists other hosting services such as Bitbucket (also private company) or Gitlab (open-source)"
   ]
  },
  {
   "cell_type": "markdown",
   "metadata": {
    "slideshow": {
     "slide_type": "slide"
    }
   },
   "source": [
    "# Get GitHub for free"
   ]
  },
  {
   "cell_type": "markdown",
   "metadata": {
    "slideshow": {
     "slide_type": "fragment"
    }
   },
   "source": [
    "Because of your academic or student status you can get Github Pro for free.  \n",
    "Apply here:\n",
    "https://education.github.com/benefits"
   ]
  },
  {
   "cell_type": "markdown",
   "metadata": {
    "slideshow": {
     "slide_type": "subslide"
    }
   },
   "source": [
    "# Use the Gitlab of ISAE-Supaero"
   ]
  },
  {
   "cell_type": "markdown",
   "metadata": {
    "slideshow": {
     "slide_type": "fragment"
    }
   },
   "source": [
    "1. Open a ticket to ask access to the GitLab\n",
    "2. Sign in and connect in: https://gitlab.isae-supaero.fr/users/sign_in"
   ]
  },
  {
   "cell_type": "markdown",
   "metadata": {
    "slideshow": {
     "slide_type": "slide"
    },
    "tags": []
   },
   "source": [
    "# Code example to start using Gitub"
   ]
  },
  {
   "cell_type": "markdown",
   "metadata": {
    "slideshow": {
     "slide_type": "fragment"
    }
   },
   "source": [
    "Create a local repo from scratch\n",
    "```bash\n",
    "git init \n",
    "git add README.md\n",
    "git commit -m \"Add README\"\n",
    "```"
   ]
  },
  {
   "cell_type": "markdown",
   "metadata": {
    "slideshow": {
     "slide_type": "fragment"
    }
   },
   "source": [
    "Connect it ot Github\n",
    "```bash\n",
    "git remote add origin git@github.com:username/new_repo\n",
    "git push -u origin master\n",
    "```"
   ]
  }
 ],
 "metadata": {
  "celltoolbar": "Diaporama",
  "kernelspec": {
   "display_name": "Python 3 (ipykernel)",
   "language": "python",
   "name": "python3"
  },
  "language_info": {
   "codemirror_mode": {
    "name": "ipython",
    "version": 3
   },
   "file_extension": ".py",
   "mimetype": "text/x-python",
   "name": "python",
   "nbconvert_exporter": "python",
   "pygments_lexer": "ipython3",
   "version": "3.8.10"
  },
  "toc-showcode": true,
  "toc-showmarkdowntxt": false,
  "toc-showtags": false
 },
 "nbformat": 4,
 "nbformat_minor": 4
}
