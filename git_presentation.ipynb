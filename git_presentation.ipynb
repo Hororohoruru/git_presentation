{
 "cells": [
  {
   "cell_type": "markdown",
   "metadata": {
    "slideshow": {
     "slide_type": "slide"
    }
   },
   "source": [
    "# Git and Github\n",
    "\n",
    "An introduction to version control, easy to share/reproduce code, and more!\n",
    "\n",
    "By: L. Darmet and JJ. Torre\n",
    "\n",
    "<img src=\"img/banner.png\" alt=\"drawing\" width=\"500\">"
   ]
  },
  {
   "cell_type": "markdown",
   "metadata": {
    "slideshow": {
     "slide_type": "subslide"
    }
   },
   "source": [
    "# What is version control?"
   ]
  },
  {
   "cell_type": "markdown",
   "metadata": {
    "slideshow": {
     "slide_type": "fragment"
    }
   },
   "source": [
    "<h1><center>Are you in this picture?</center></h1>\n",
    "\n",
    "<img src=\"img/final.png\" alt=\"drawing\" style=\"margin:auto\" width='500' height='500'>"
   ]
  },
  {
   "attachments": {},
   "cell_type": "markdown",
   "metadata": {
    "slideshow": {
     "slide_type": "subslide"
    }
   },
   "source": [
    "Version control allows us to keep track of file changes locally, sync changes among team members, and maintain code and other files organized and available.\n",
    "\n",
    "<img src=\"img/git_flow.png\" alt=\"drawing\" style=\"margin:auto\" width='300' height='300'>"
   ]
  },
  {
   "cell_type": "markdown",
   "metadata": {
    "slideshow": {
     "slide_type": "slide"
    }
   },
   "source": [
    "# Differences between Git and Github"
   ]
  },
  {
   "cell_type": "markdown",
   "metadata": {
    "slideshow": {
     "slide_type": "fragment"
    }
   },
   "source": [
    "<img src=\"img/git_logo.png\" alt=\"drawing\" margin='left' width='100' height='100'>\n",
    "- Git is a version control system\n",
    "- It follows the evolution of a set of files in your computer, called a 'repository' or 'repo'"
   ]
  },
  {
   "cell_type": "markdown",
   "metadata": {
    "slideshow": {
     "slide_type": "fragment"
    }
   },
   "source": [
    "<img src=\"img/github_logo.png\" alt=\"drawing\" style=left width='75' height='75'>\n",
    "- Github is a hosting service for git repos\n",
    "- It enables multiple users to keep their local repos synchronized\n",
    "- It also enables code sharing and open source collaboration via issues and pull requests\n",
    "- Cute cat/octopus mascot"
   ]
  }
 ],
 "metadata": {
  "celltoolbar": "Slideshow",
  "kernelspec": {
   "display_name": "Python 3",
   "language": "python",
   "name": "python3"
  },
  "language_info": {
   "codemirror_mode": {
    "name": "ipython",
    "version": 3
   },
   "file_extension": ".py",
   "mimetype": "text/x-python",
   "name": "python",
   "nbconvert_exporter": "python",
   "pygments_lexer": "ipython3",
   "version": "3.8.5"
  }
 },
 "nbformat": 4,
 "nbformat_minor": 4
}
