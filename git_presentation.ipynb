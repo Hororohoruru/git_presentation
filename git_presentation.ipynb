{
 "cells": [
  {
   "cell_type": "markdown",
   "metadata": {
    "slideshow": {
     "slide_type": "slide"
    }
   },
   "source": [
    "# Version control and track changes\n",
    "## Git and Github\n",
    "\n",
    "An introduction to version control, easy to share/reproduce code, and more!\n",
    "\n",
    "By: L. Darmet and JJ. Torre\n",
    "\n",
    "<img src=\"./img/banner.png\" alt=\"drawing\" width=\"500\">"
   ]
  },
  {
   "cell_type": "markdown",
   "metadata": {
    "slideshow": {
     "slide_type": "subslide"
    }
   },
   "source": [
    "## What is version control?"
   ]
  },
  {
   "cell_type": "markdown",
   "metadata": {
    "slideshow": {
     "slide_type": "fragment"
    }
   },
   "source": [
    "<center>Are you in this picture?</center>\n",
    "<center>\n",
    "<img src=\"./img/final.png\" alt=\"drawing\" style=\"margin:auto\" width='500' height='500'>\n",
    "</center>"
   ]
  },
  {
   "cell_type": "markdown",
   "metadata": {
    "slideshow": {
     "slide_type": "subslide"
    }
   },
   "source": [
    "<center>Or in this one ?</center>\n",
    "<center>\n",
    "<img src=\"./img/ctrlz.png\" alt=\"drawing\" style=\"margin:auto\" width='500' height='500'>\n",
    "</center>"
   ]
  },
  {
   "cell_type": "markdown",
   "metadata": {
    "slideshow": {
     "slide_type": "subslide"
    }
   },
   "source": [
    "Version control allows to:\n",
    "- **Keep track of file changes** locally 🖥️\n",
    "- **Synchronize** changes among team members 🤝\n",
    "- **Maintain code** and other files organized and available 📡\n",
    "<center>\n",
    "<img src=\"./img/git_flow.png\" alt=\"drawing\" style=\"margin:auto\" width='300' height='300'>\n",
    "</center>"
   ]
  },
  {
   "cell_type": "markdown",
   "metadata": {
    "slideshow": {
     "slide_type": "subslide"
    }
   },
   "source": [
    "- Track every change/addition ($\\it i.e.$ **comits**)\n",
    "- Going back to a previous version\n",
    "- Use **branch** to develop features in parallel\n",
    "\n",
    "<br /> \n",
    "<center>\n",
    "<img src=\"./img/commits.png\" alt=\"drawing\" style=\"margin:auto\" width='900' height='900'>\n",
    "</center>"
   ]
  },
  {
   "cell_type": "markdown",
   "metadata": {
    "slideshow": {
     "slide_type": "slide"
    },
    "tags": []
   },
   "source": [
    "# Differences between Git and GitHub"
   ]
  },
  {
   "cell_type": "markdown",
   "metadata": {
    "slideshow": {
     "slide_type": "subslide"
    }
   },
   "source": [
    "<img src=\"./img/git_logo.png\" alt=\"drawing\" margin='left' width='100' height='100'>\n",
    "\n",
    "- Git is an open-source **distributed version control tool**, maintaned by the Linux foundation.\n",
    "- It follows the evolution of a set of files in your computer, called a **repository** or **repo**\n"
   ]
  },
  {
   "cell_type": "markdown",
   "metadata": {
    "slideshow": {
     "slide_type": "subslide"
    }
   },
   "source": [
    "<img src=\"./img/github_logo.png\" alt=\"drawing\" style=left width='75' height='75'>\n",
    "\n",
    "* Github is an **online hosting service for git repos**\n",
    "* Owned by **Microsoft**\n",
    "* The repos can be either **private** or **public**\n",
    "* Additionnal features:\n",
    "    - **Features requests, issues and pull request**: ask for new functionnality and merge new functionnality to the exisiting code after review by the owner\n",
    "    - A **wiki** for each project\n",
    "    - **Continuous integration tools** (run automatic tests to check if additions in the code don't alter the expected outputs)\n",
    "* Cute cat/octopus mascot\n"
   ]
  },
  {
   "cell_type": "markdown",
   "metadata": {
    "slideshow": {
     "slide_type": "subslide"
    }
   },
   "source": [
    "- There exists other hosting services such as **Bitbucket** (also private company) or **Gitlab** (open-source).\n",
    "- We have a **self-hosted Gitlab in ISAE**..! 💫\n",
    "<br />\n",
    "<img src=\"./img/bitbucket-logo.png\" alt=\"drawing\" style=left width='150' height='150'>"
   ]
  },
  {
   "cell_type": "markdown",
   "metadata": {
    "slideshow": {
     "slide_type": "slide"
    }
   },
   "source": [
    "# Get GitHub for free\n",
    " **GitHub is free** but you may encounter restrictions if you do not suscribe to **GitHub Pro** (4\\$ per month 💸)"
   ]
  },
  {
   "cell_type": "markdown",
   "metadata": {
    "slideshow": {
     "slide_type": "fragment"
    }
   },
   "source": [
    "<center>\n",
    "<img src=\"./img/githubstudent.jpg\" alt=\"drawing\" style=left width='350' height='350'>\n",
    "</center>\n",
    "Because of your academic or student status you can get **Github Pro for free**.   \n",
    "\n",
    "Apply here:\n",
    "https://education.github.com/benefits"
   ]
  },
  {
   "cell_type": "markdown",
   "metadata": {
    "slideshow": {
     "slide_type": "subslide"
    }
   },
   "source": [
    "# Or use the Gitlab of ISAE-Supaero 🤯\n",
    "<img src=\"./img/gitlab.png\" alt=\"drawing\" style=left width='250' height='250'>\n",
    "\n",
    "1. Open **a ticket** to ask access to the GitLab\n",
    "2. Sign in and connect in: https://gitlab.isae-supaero.fr/users/sign_in"
   ]
  },
  {
   "cell_type": "markdown",
   "metadata": {
    "slideshow": {
     "slide_type": "slide"
    },
    "tags": []
   },
   "source": [
    "# Code example to start using Gitub 👩‍💻"
   ]
  },
  {
   "cell_type": "markdown",
   "metadata": {
    "slideshow": {
     "slide_type": "fragment"
    }
   },
   "source": [
    "Create a local repo from scratch\n",
    "```bash\n",
    "git init \n",
    "git add README.md\n",
    "git commit -m \"Add README\"\n",
    "```"
   ]
  },
  {
   "cell_type": "markdown",
   "metadata": {
    "slideshow": {
     "slide_type": "fragment"
    }
   },
   "source": [
    "Connect it ot Github\n",
    "```bash\n",
    "git remote add origin git@github.com:username/new_repo\n",
    "git push -u origin master\n",
    "```"
   ]
  },
  {
   "cell_type": "markdown",
   "metadata": {
    "slideshow": {
     "slide_type": "slide"
    },
    "tags": []
   },
   "source": [
    "# Or use a GUI for simpler interactions 🤓"
   ]
  },
  {
   "cell_type": "markdown",
   "metadata": {
    "slideshow": {
     "slide_type": "fragment"
    }
   },
   "source": [
    "- GitHub Desktop: from Github directly\n",
    "- Gitkraken: the most comprehensive (requires GitHub Pro)\n",
    "<center>\n",
    "<img src=\"./img/gitkraken.jpeg\" alt=\"drawing\" style=left width='550' height='550'>\n",
    "</center>"
   ]
  },
  {
   "cell_type": "markdown",
   "metadata": {
    "slideshow": {
     "slide_type": "subslide"
    }
   },
   "source": [
    "<img src=\"./img/gitkrakenGUI.png\" alt=\"drawing\" style=left width='1050' height='1050'>"
   ]
  },
  {
   "cell_type": "markdown",
   "metadata": {
    "slideshow": {
     "slide_type": "slide"
    }
   },
   "source": [
    "# Use cases\n",
    "* Manage your code during **development** 🚧 (also with Matlab..!)\n",
    "* **Share** the code along your publication: open science and open data\n",
    "    - Yes you are ashamed to share your code but it would put a strain on you for better code (cleaner, clearer, etc) 🥲\n",
    "    - Sharing only data is sometimes harsh if you don't provide an example on how to use them 🙏"
   ]
  },
  {
   "cell_type": "markdown",
   "metadata": {
    "slideshow": {
     "slide_type": "subslide"
    }
   },
   "source": [
    "* Maintain a **code library** 📚 to share existing code with new interns, PhD, collaborators,...\n",
    "    - Avoid developing again and again the same tools for experimental protocol, pre-processing, data visualization...\n",
    "    - Standard pipelines\n",
    "<center>\n",
    "<img src=\"./img/expprotocol.jpg\" alt=\"drawing\" style=left width='300' height='300'>\n",
    "</center>"
   ]
  },
  {
   "cell_type": "markdown",
   "metadata": {
    "slideshow": {
     "slide_type": "subslide"
    }
   },
   "source": [
    "* Manage and maintain the $\\LaTeX$ code of your thesis 🤓"
   ]
  },
  {
   "cell_type": "markdown",
   "metadata": {
    "slideshow": {
     "slide_type": "slide"
    }
   },
   "source": [
    "<center>\n",
    "    <font size=\"5\">Thank you for your attention! </font>   \n",
    "</center>\n",
    "<br />\n",
    "\n",
    "<center>\n",
    "    <font size=\"5\">Questions ❓ </font>  \n",
    "</center>   \n",
    "<br />\n",
    "\n",
    "\n",
    "<center>\n",
    "<img src=\"./img/perfectworld.jpg\" alt=\"drawing\" style=left width='800' height='800'>\n",
    "</center>"
   ]
  }
 ],
 "metadata": {
  "celltoolbar": "Diaporama",
  "kernelspec": {
   "display_name": "Python 3 (ipykernel)",
   "language": "python",
   "name": "python3"
  },
  "language_info": {
   "codemirror_mode": {
    "name": "ipython",
    "version": 3
   },
   "file_extension": ".py",
   "mimetype": "text/x-python",
   "name": "python",
   "nbconvert_exporter": "python",
   "pygments_lexer": "ipython3",
   "version": "3.8.10"
  },
  "toc-showcode": true,
  "toc-showmarkdowntxt": false,
  "toc-showtags": false
 },
 "nbformat": 4,
 "nbformat_minor": 4
}
